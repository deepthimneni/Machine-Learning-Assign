{
  "cells": [
    {
      "cell_type": "markdown",
      "source": [
        "PROBLEM-1                     \n",
        "In this we trying to read text file.And then we trying to count the occurance of each alphabet.Since there are mixture of lower and upper case letters we are trying to convert all the letters to lower case and we are counting the occurances.Later we are storing them as dictinary and plotting the graph using  matplotlib in two ways, the first is by doing normalization and the second one is without normalization. And we are coverting the occurances into numpy array and placing them in ascending order."
      ],
      "metadata": {
        "id": "X1KfGGMg9z_9"
      },
      "id": "X1KfGGMg9z_9"
    },
    {
      "cell_type": "code",
      "execution_count": null,
      "id": "a4396e17",
      "metadata": {
        "id": "a4396e17"
      },
      "outputs": [],
      "source": [
        "import numpy as np"
      ]
    },
    {
      "cell_type": "code",
      "execution_count": null,
      "id": "59178e61",
      "metadata": {
        "id": "59178e61"
      },
      "outputs": [],
      "source": [
        "with open('/content/test.txt') as f:\n",
        "    lines = f.readlines()"
      ]
    },
    {
      "cell_type": "code",
      "execution_count": null,
      "id": "ca4f0880",
      "metadata": {
        "id": "ca4f0880"
      },
      "outputs": [],
      "source": [
        "d=dict()\n",
        "l=[]\n",
        "for i in lines:\n",
        "    for j in i.lower():\n",
        "        if(j.lower().isalpha()):\n",
        "            if(j.lower() not in l):\n",
        "                l.append(j.lower())\n",
        "                a=i.lower().count(j.lower())\n",
        "                d[j.lower()]=a\n",
        "            else:\n",
        "                a=i.lower().count(j.lower())\n",
        "                d[j.lower()]=d[j.lower()]+a\n",
        "            \n",
        "        \n",
        "    "
      ]
    },
    {
      "cell_type": "code",
      "execution_count": null,
      "id": "5b1a0f0e",
      "metadata": {
        "id": "5b1a0f0e",
        "colab": {
          "base_uri": "https://localhost:8080/"
        },
        "outputId": "2a9695c3-6c27-4829-8aa4-08968a79f108"
      },
      "outputs": [
        {
          "output_type": "execute_result",
          "data": {
            "text/plain": [
              "{'t': 88,\n",
              " 'h': 33,\n",
              " 'e': 297,\n",
              " 'q': 22,\n",
              " 'u': 74,\n",
              " 'i': 174,\n",
              " 'c': 25,\n",
              " 'k': 22,\n",
              " 'b': 28,\n",
              " 'r': 124,\n",
              " 'o': 158,\n",
              " 'w': 22,\n",
              " 'n': 44,\n",
              " 'f': 22,\n",
              " 'x': 22,\n",
              " 'j': 25,\n",
              " 'm': 22,\n",
              " 'p': 33,\n",
              " 's': 31,\n",
              " 'v': 22,\n",
              " 'a': 122,\n",
              " 'l': 34,\n",
              " 'z': 25,\n",
              " 'y': 39,\n",
              " 'd': 60,\n",
              " 'g': 25}"
            ]
          },
          "metadata": {},
          "execution_count": 5
        }
      ],
      "source": [
        "d"
      ]
    },
    {
      "cell_type": "code",
      "execution_count": null,
      "id": "3c09ffe2",
      "metadata": {
        "id": "3c09ffe2",
        "colab": {
          "base_uri": "https://localhost:8080/"
        },
        "outputId": "423fdccf-68e8-408c-e62b-42abb8985536"
      },
      "outputs": [
        {
          "output_type": "stream",
          "name": "stdout",
          "text": [
            "[0, 0, 0, 0, 0, 0, 0, 0, 0, 0, 0, 0, 0, 0, 0, 0, 0, 0, 0, 0, 0, 0, 0, 0, 0, 0]\n"
          ]
        }
      ],
      "source": [
        "l=[0 for i in range(26)]\n",
        "print(l)"
      ]
    },
    {
      "cell_type": "code",
      "execution_count": null,
      "id": "a11013f1",
      "metadata": {
        "id": "a11013f1"
      },
      "outputs": [],
      "source": [
        "l1=['a', 'b', 'c', 'd', 'e', 'f', 'g', 'h', 'i', 'j', 'k', 'l', 'm', 'n', 'o', 'p', 'q', 'r', 's', 't', 'u', 'v', 'w', 'x', 'y', 'z']"
      ]
    },
    {
      "cell_type": "code",
      "execution_count": null,
      "id": "0e623c03",
      "metadata": {
        "id": "0e623c03"
      },
      "outputs": [],
      "source": [
        "for i in d.keys():\n",
        "    if(i in l1):\n",
        "        l[l1.index(i)]=d[i]"
      ]
    },
    {
      "cell_type": "code",
      "execution_count": null,
      "id": "a8401381",
      "metadata": {
        "id": "a8401381"
      },
      "outputs": [],
      "source": [
        "a=np.array(l)"
      ]
    },
    {
      "cell_type": "code",
      "execution_count": null,
      "id": "d787b70f",
      "metadata": {
        "id": "d787b70f",
        "colab": {
          "base_uri": "https://localhost:8080/"
        },
        "outputId": "7f8e91a4-4512-45de-ee97-279b162fa495"
      },
      "outputs": [
        {
          "output_type": "stream",
          "name": "stdout",
          "text": [
            "[122  28  25  60 297  22  25  33 174  25  22  34  22  44 158  33  22 124\n",
            "  31  88  74  22  22  22  39  25]\n"
          ]
        }
      ],
      "source": [
        "print(a)"
      ]
    },
    {
      "cell_type": "code",
      "execution_count": null,
      "id": "046a5f55",
      "metadata": {
        "id": "046a5f55",
        "colab": {
          "base_uri": "https://localhost:8080/",
          "height": 638
        },
        "outputId": "279be9b8-6783-494c-f727-a9505de06506"
      },
      "outputs": [
        {
          "output_type": "execute_result",
          "data": {
            "text/plain": [
              "Text(0.5, 1.0, 'Without making frequncies sum up to 1')"
            ]
          },
          "metadata": {},
          "execution_count": 11
        },
        {
          "output_type": "display_data",
          "data": {
            "text/plain": [
              "<Figure size 720x720 with 1 Axes>"
            ],
            "image/png": "[encoded data removed]"
          },
          "metadata": {
            "needs_background": "light"
          }
        }
      ],
      "source": [
        "import matplotlib.pyplot as plt\n",
        "plt.figure(figsize=(10, 10))\n",
        "plt.bar(d.keys(), d.values(), width=0.7, color='r')\n",
        "plt.xlabel(\"Alphabets\")\n",
        "plt.ylabel(\"frequencies\")\n",
        "plt.title(\"Without making frequncies sum up to 1\")"
      ]
    },
    {
      "cell_type": "code",
      "execution_count": null,
      "id": "3d7093f0",
      "metadata": {
        "id": "3d7093f0"
      },
      "outputs": [],
      "source": [
        "for i in d.keys():\n",
        "    d[i]=float(d[i])/max(d.values())"
      ]
    },
    {
      "cell_type": "code",
      "execution_count": null,
      "id": "7737fd8e",
      "metadata": {
        "scrolled": true,
        "id": "7737fd8e",
        "colab": {
          "base_uri": "https://localhost:8080/",
          "height": 638
        },
        "outputId": "3529bef3-da84-4988-bc58-16bbf0e08439"
      },
      "outputs": [
        {
          "output_type": "execute_result",
          "data": {
            "text/plain": [
              "Text(0.5, 1.0, 'With making frequncies sum up to 1')"
            ]
          },
          "metadata": {},
          "execution_count": 13
        },
        {
          "output_type": "display_data",
          "data": {
            "text/plain": [
              "<Figure size 720x720 with 1 Axes>"
            ],
            "image/png": "[encoded data removed]"
          },
          "metadata": {
            "needs_background": "light"
          }
        }
      ],
      "source": [
        "import matplotlib.pyplot as plt\n",
        "plt.figure(figsize=(10, 10))\n",
        "plt.bar(d.keys(), d.values(), width=0.7, color='r')\n",
        "plt.xlabel(\"Alphabets\")\n",
        "plt.ylabel(\"frequencies\")\n",
        "plt.title(\"With making frequncies sum up to 1\")"
      ]
    },
    {
      "cell_type": "markdown",
      "id": "1c630cba",
      "metadata": {
        "id": "1c630cba"
      },
      "source": [
        "### Problem 2           \n",
        "In this we are trying to read the image using cv2 which offer us the method imread to read the correspoding image. With this, the image is automatically converted into numpy array.On that we are performing the required operations,And finally we are saving the output image by using imwrite method."
      ]
    },
    {
      "cell_type": "code",
      "execution_count": null,
      "id": "76aa8c58",
      "metadata": {
        "id": "76aa8c58"
      },
      "outputs": [],
      "source": [
        "import cv2"
      ]
    },
    {
      "cell_type": "code",
      "execution_count": null,
      "id": "ed07ee23",
      "metadata": {
        "id": "ed07ee23"
      },
      "outputs": [],
      "source": [
        "img=cv2.imread(r'test.jpeg')"
      ]
    },
    {
      "cell_type": "code",
      "execution_count": null,
      "id": "7814a17a",
      "metadata": {
        "id": "7814a17a"
      },
      "outputs": [],
      "source": [
        "l=[]\n",
        "p1=[255,0,0]\n",
        "p2=[0,255,0]\n",
        "p3=[0,0,255]\n",
        "\n",
        "for i in range(128):\n",
        "    for j in range(128):\n",
        "        d1= np.linalg.norm(img[i][j]-p1)\n",
        "        d2= np.linalg.norm(img[i][j]-p2)\n",
        "        d3= np.linalg.norm(img[i][j]-p3)\n",
        "        smallest = 0\n",
        "        if (d1 < d2 and d1 < d3 ):\n",
        "            smallest = p1\n",
        "        elif (d2 < d1 and d2 < d3) :\n",
        "            smallest = p2\n",
        "        else:\n",
        "            smallest = p3\n",
        "        img[i][j]=smallest\n",
        "        \n",
        "        "
      ]
    },
    {
      "cell_type": "code",
      "execution_count": null,
      "id": "239a1318",
      "metadata": {
        "id": "239a1318",
        "colab": {
          "base_uri": "https://localhost:8080/"
        },
        "outputId": "9a6a155d-336a-44b3-e886-96fbfce06305"
      },
      "outputs": [
        {
          "output_type": "execute_result",
          "data": {
            "text/plain": [
              "True"
            ]
          },
          "metadata": {},
          "execution_count": 20
        }
      ],
      "source": [
        "cv2.imwrite(\"output1.png\", img)"
      ]
    },
    {
      "cell_type": "code",
      "execution_count": null,
      "id": "36cf038a",
      "metadata": {
        "id": "36cf038a"
      },
      "outputs": [],
      "source": [
        "img=cv2.imread(r'test.jpeg')"
      ]
    },
    {
      "cell_type": "code",
      "execution_count": null,
      "id": "d22b4bb3",
      "metadata": {
        "id": "d22b4bb3"
      },
      "outputs": [],
      "source": [
        "h=63\n",
        "k=63\n",
        "l=50"
      ]
    },
    {
      "cell_type": "code",
      "execution_count": null,
      "id": "fb01a068",
      "metadata": {
        "id": "fb01a068"
      },
      "outputs": [],
      "source": [
        "corner1=[38,88]\n",
        "corner2=[88,88] \n",
        "corner3=[38,38]\n",
        "corner4=[88,38]"
      ]
    },
    {
      "cell_type": "code",
      "execution_count": null,
      "id": "9513b7b7",
      "metadata": {
        "id": "9513b7b7"
      },
      "outputs": [],
      "source": [
        "for i in range(128):\n",
        "    for j in range(128):\n",
        "        if((j>=38  and j<=88) and (i>=38 and i<=88)):\n",
        "            img[i][j]=[0,0,0]\n"
      ]
    },
    {
      "cell_type": "code",
      "execution_count": null,
      "id": "3eb58996",
      "metadata": {
        "id": "3eb58996",
        "colab": {
          "base_uri": "https://localhost:8080/"
        },
        "outputId": "795b5338-0de2-4a19-a863-d95fa4b0f7b0"
      },
      "outputs": [
        {
          "output_type": "execute_result",
          "data": {
            "text/plain": [
              "True"
            ]
          },
          "metadata": {},
          "execution_count": 25
        }
      ],
      "source": [
        "cv2.imwrite(\"output2.png\", img)"
      ]
    },
    {
      "cell_type": "markdown",
      "id": "48787aa0",
      "metadata": {
        "id": "48787aa0"
      },
      "source": [
        "### PROBLEM 3       \n",
        "In this we are trying to understand the given queston and we are getting the two linear equation that is         \n",
        "3x+3y=11.25            \n",
        "4x+2y=10          \n",
        "Now solving them by linearalg to solve these equations. And we got the correspoding values of x and y."
      ]
    },
    {
      "cell_type": "code",
      "execution_count": null,
      "id": "d3e5dc70",
      "metadata": {
        "id": "d3e5dc70",
        "colab": {
          "base_uri": "https://localhost:8080/"
        },
        "outputId": "9945132b-7ddb-4dc2-bf4e-1a752e66b298"
      },
      "outputs": [
        {
          "output_type": "execute_result",
          "data": {
            "text/plain": [
              "array([1.25, 2.5 ])"
            ]
          },
          "metadata": {},
          "execution_count": 26
        }
      ],
      "source": [
        "A = np.array([[3, 3], [4, 2]])\n",
        "b = np.array([11.25,10.00])\n",
        "x = np.linalg.solve(A, b)\n",
        "x #BURRITOS COST 2.5$"
      ]
    }
  ],
  "metadata": {
    "kernelspec": {
      "display_name": "Python 3 (ipykernel)",
      "language": "python",
      "name": "python3"
    },
    "language_info": {
      "codemirror_mode": {
        "name": "ipython",
        "version": 3
      },
      "file_extension": ".py",
      "mimetype": "text/x-python",
      "name": "python",
      "nbconvert_exporter": "python",
      "pygments_lexer": "ipython3",
      "version": "3.9.12"
    },
    "colab": {
      "provenance": []
    }
  },
  "nbformat": 4,
  "nbformat_minor": 5
}